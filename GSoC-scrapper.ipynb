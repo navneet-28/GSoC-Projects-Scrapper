{
 "cells": [
  {
   "cell_type": "code",
   "execution_count": 41,
   "source": [
    "import requests\n",
    "import pandas as pd\n",
    "import bs4"
   ],
   "outputs": [],
   "metadata": {}
  },
  {
   "cell_type": "code",
   "execution_count": 29,
   "source": [
    "base_url = \"https://summerofcode.withgoogle.com/api/program/current/project/?page={}&page_size=50\""
   ],
   "outputs": [],
   "metadata": {}
  },
  {
   "cell_type": "code",
   "execution_count": 52,
   "source": [
    "example = requests.get(base_url.format(25))"
   ],
   "outputs": [],
   "metadata": {}
  },
  {
   "cell_type": "code",
   "execution_count": 32,
   "source": [
    "pages = int(example.json()[\"count\"]/50) + 1"
   ],
   "outputs": [],
   "metadata": {}
  },
  {
   "cell_type": "code",
   "execution_count": 33,
   "source": [
    "pages"
   ],
   "outputs": [
    {
     "output_type": "execute_result",
     "data": {
      "text/plain": [
       "25"
      ]
     },
     "metadata": {},
     "execution_count": 33
    }
   ],
   "metadata": {}
  },
  {
   "cell_type": "code",
   "execution_count": 77,
   "source": [
    "main_list = []\n"
   ],
   "outputs": [],
   "metadata": {}
  },
  {
   "cell_type": "code",
   "execution_count": 79,
   "source": [
    "for n in range(1,pages+1):\n",
    "    res = requests.get(base_url.format(n))\n",
    "    jsonRes = res.json()\n",
    "    \n",
    "    for i in range(0,len(res.json()[\"results\"])):\n",
    "        sub_list = []\n",
    "        sub_list.append((n-1)*50 + i + 1)\n",
    "        sub_list.append(jsonRes[\"results\"][i][\"title\"])\n",
    "        sub_list.append(jsonRes[\"results\"][i][\"student\"][\"display_name\"])\n",
    "        sub_list.append(jsonRes[\"results\"][i][\"organization\"][\"name\"])\n",
    "        sub_list.append(jsonRes[\"results\"][i][\"organization\"][\"website_url\"])\n",
    "        \n",
    "        main_list.append(sub_list)\n",
    "        "
   ],
   "outputs": [],
   "metadata": {}
  },
  {
   "cell_type": "code",
   "execution_count": 81,
   "source": [
    "df = pd.DataFrame(main_list, columns=[\"S.No\",\"Project Title\",\"Student\",\"Organization\",\"Website URL\"])"
   ],
   "outputs": [],
   "metadata": {}
  },
  {
   "cell_type": "code",
   "execution_count": 82,
   "source": [
    "df.to_csv('gsoc_scrapped2.csv',index=False, sep=\",\")"
   ],
   "outputs": [],
   "metadata": {}
  },
  {
   "cell_type": "markdown",
   "source": [
    "### Happy Scrapping :)"
   ],
   "metadata": {}
  }
 ],
 "metadata": {
  "kernelspec": {
   "display_name": "Python 3 (ipykernel)",
   "language": "python",
   "name": "python3"
  },
  "language_info": {
   "codemirror_mode": {
    "name": "ipython",
    "version": 3
   },
   "file_extension": ".py",
   "mimetype": "text/x-python",
   "name": "python",
   "nbconvert_exporter": "python",
   "pygments_lexer": "ipython3",
   "version": "3.8.10"
  }
 },
 "nbformat": 4,
 "nbformat_minor": 5
}